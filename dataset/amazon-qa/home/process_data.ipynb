{
 "cells": [
  {
   "cell_type": "code",
   "execution_count": 1,
   "metadata": {
    "collapsed": true
   },
   "outputs": [],
   "source": [
    "import json\n",
    "\n",
    "\n",
    "def process(infile, outfile):\n",
    "    with open(outfile, 'w') as writer:\n",
    "        with open(infile, 'r') as reader:\n",
    "            for line in reader.readlines():\n",
    "                json_obj = eval(line)\n",
    "                res_dic = {'question': json_obj['question'], 'answer': json_obj['answer']}\n",
    "                writer.write(json.dumps(res_dic)+\"\\n\")\n"
   ]
  },
  {
   "cell_type": "code",
   "execution_count": 2,
   "outputs": [],
   "source": [
    "process(\"./home_test.jsonl\", \"./test_qa.txt\")\n",
    "process(\"./home_train.jsonl\", \"./train_qa.txt\")"
   ],
   "metadata": {
    "collapsed": false
   }
  },
  {
   "cell_type": "code",
   "execution_count": null,
   "outputs": [],
   "source": [],
   "metadata": {
    "collapsed": false
   }
  }
 ],
 "metadata": {
  "kernelspec": {
   "name": "torch1.9",
   "language": "python",
   "display_name": "torch1.9"
  },
  "language_info": {
   "codemirror_mode": {
    "name": "ipython",
    "version": 2
   },
   "file_extension": ".py",
   "mimetype": "text/x-python",
   "name": "python",
   "nbconvert_exporter": "python",
   "pygments_lexer": "ipython2",
   "version": "2.7.6"
  }
 },
 "nbformat": 4,
 "nbformat_minor": 0
}
