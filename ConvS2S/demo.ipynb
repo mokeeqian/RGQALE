{
 "cells": [
  {
   "cell_type": "code",
   "execution_count": 1,
   "metadata": {
    "collapsed": true
   },
   "outputs": [],
   "source": [
    "import spacy as spacy\n",
    "import torch\n",
    "from matplotlib import pyplot as plt, ticker\n",
    "\n",
    "from utils import *\n",
    "from model import *\n",
    "from dataloader import *\n",
    "from transform import TextTransform\n",
    "from train import train\n",
    "\n",
    "\n",
    "# load configurations\n",
    "CONF = load_conf()\n",
    "# add special characters to config\n",
    "CONF[\"special_tokens\"] = {\n",
    "    CONF[\"unk_token\"]: 0,\n",
    "    CONF[\"pad_token\"]: 1,\n",
    "    CONF[\"sos_token\"]: 2,\n",
    "    CONF[\"eos_token\"]: 3,\n",
    "}\n",
    "\n",
    "# set seed\n",
    "set_seed(CONF['seed'])\n",
    "\n",
    "# get device\n",
    "DEVICE = torch.device('cuda:0' if torch.cuda.is_available() else 'cpu')"
   ]
  },
  {
   "cell_type": "code",
   "execution_count": 2,
   "outputs": [],
   "source": [
    "# load tokenizers\n",
    "src_tokenizer = load_tokenizer(CONF['tokenizer'], CONF['src'])\n",
    "tgt_tokenizer = load_tokenizer(CONF['tokenizer'], CONF['tgt'])"
   ],
   "metadata": {
    "collapsed": false
   }
  },
  {
   "cell_type": "code",
   "execution_count": 3,
   "outputs": [],
   "source": [
    "# load datset\n",
    "train_data, valid_data, test_data = load_multi30k(CONF['src'], CONF['tgt'])"
   ],
   "metadata": {
    "collapsed": false
   }
  },
  {
   "cell_type": "code",
   "execution_count": 4,
   "outputs": [],
   "source": [
    "# load vocab\n",
    "src_vocab = get_vocab( get_src_iter(train_data), src_tokenizer, CONF)\n",
    "tgt_vocab = get_vocab( get_tgt_iter(train_data), tgt_tokenizer, CONF)"
   ],
   "metadata": {
    "collapsed": false
   }
  },
  {
   "cell_type": "code",
   "execution_count": 5,
   "outputs": [
    {
     "data": {
      "text/plain": "{'fluffy': 1621,\n 'artwork,': 6179,\n 'outstretched.': 4425,\n '</s>': 3,\n 'lone': 963,\n 'him.': 173,\n 'little': 54,\n 'woods': 2084,\n 'descent.': 5064,\n '<unk>': 0,\n 'pushes': 994,\n 'air,': 2237,\n 'newspapers': 3025,\n 'dry': 1430,\n 'officers': 839,\n 'shouting': 3429,\n 'outside.': 201,\n 'fires': 6718,\n 'sing': 1460,\n 'street': 61,\n 'flexible': 6735,\n 'applauding': 6162,\n 'supermarket.': 4625,\n 'pose.': 3381,\n 'soccer': 119,\n 'taping': 7749,\n 'attire': 584,\n 'kicked': 3305,\n 'probably': 3387,\n 'sheepdog': 5618,\n 't-shirt,': 2574,\n 'customers': 1884,\n 'in': 6,\n 'moped': 2514,\n 'splash': 7637,\n 'An': 45,\n 'laundry': 1102,\n 'smoke': 2058,\n 'crane': 2120,\n '<pad>': 1,\n 'storage': 4609,\n 'cowboy': 454,\n 'charcoal': 4155,\n 'working.': 2402,\n 'pies': 7284,\n 'cleaning': 552,\n 'struggle': 7691,\n '<s>': 2,\n 'laptops.': 2996,\n 'Year': 6113,\n \"ATV's\": 5896,\n 'company': 5012,\n 'metal': 295,\n 'track': 616,\n 'pours': 2771,\n 'green': 48,\n 'bonding': 6299,\n 'face': 191,\n 'Kids': 917,\n 'vase': 7877,\n 'the': 7,\n 'mixer.': 3808,\n 'polish': 5490,\n 'flags': 897,\n 'Elmo': 2857,\n 'balding': 1674,\n 'guiding': 6834,\n 'A': 5,\n 'garbage': 1382,\n 'workers': 244,\n 'doll': 2946,\n 'taste': 4642,\n 'winter': 473,\n 'seems': 1301,\n 'her': 42,\n 'outdoors': 666,\n 'photographer.': 4452,\n 'bald': 752,\n 'underway': 7856,\n 'a': 4,\n 'hose': 1335,\n 'activity': 2415,\n 'turbulent': 7841,\n 'group': 37,\n 'competitors,': 6478,\n 'gentleman': 578,\n 'toast': 5773,\n 'decorations': 3680,\n 'girls': 95,\n 'crashing': 2932,\n \"he's\": 3289,\n 'on': 8,\n \"Men's\": 6000,\n 'down': 39,\n 'paper.': 743,\n 'storefront.': 2570,\n 'Lakers': 5986,\n 'Overhead': 4798,\n 'Five': 291,\n 'shake': 5614,\n 'forehead': 4280,\n 'other': 79,\n 'mittens': 3334,\n 'volleyball.': 1311,\n 'clothes,': 2922,\n 'punching': 3392,\n 'fountain': 899,\n 'playing': 34,\n 'waterfall.': 1366,\n 'Lady': 1470,\n 'short': 445,\n 'castle.': 3203,\n 'blond-hair': 518,\n 'brick-paved': 6321,\n 'bookstore.': 4917,\n 'accordion.': 1369,\n 'tutu': 3968,\n 'mall,': 7071,\n 'companion': 2659,\n 'standing': 32,\n 'glasses,': 1330,\n 'belts.': 6267,\n 'Nine': 4795,\n 'merchant': 4391,\n 'appears': 475,\n 'woman': 15,\n 'tee': 3469,\n 'mob': 7125,\n 'tired': 2824,\n 'poses': 452,\n 'plaid': 363,\n 'is': 9,\n 'balls': 1858,\n 'cake.': 1243,\n 'ravine.': 7386,\n 'band': 215,\n 'white': 21,\n 'helping': 719,\n 'curly': 1179,\n 'off-white': 7188,\n 'an': 24,\n 'leather': 721,\n 'resort.': 5557,\n 'geometric': 5186,\n \"that's\": 1662,\n 'watches.': 405,\n 'twirls': 7848,\n 'modeling': 7126,\n 'individual': 1387,\n 'sorts': 7619,\n 'conversation': 739,\n 'York': 1530,\n 'chili': 6425,\n 'and': 10,\n 'motorcycle.': 815,\n 'traffic': 1201,\n 'moose': 7133,\n 'outfit': 319,\n 'walkway': 1468,\n 'together': 157,\n 'costumed': 6513,\n 'uncompleted': 5807,\n 'spectators.': 1358,\n 'writing': 729,\n 'again': 6129,\n 'motorbike': 2169,\n 'park,': 1916,\n 'slides': 1520,\n 'produce': 1115,\n 'flowers': 648,\n 'Firemen': 5957,\n 'brown': 60,\n 'chairs.': 833,\n 'subject': 7702,\n 'puddle,': 7354,\n 'strange': 2208,\n 'gymnasium': 2703,\n 'dancing': 251,\n 'math': 7091,\n 'sitting': 29,\n 'horses': 625,\n 'eagle': 6640,\n 'stunt': 1123,\n 'adult': 421,\n 'structures': 7689,\n 'man': 11,\n 'near': 77,\n 'airplane': 1760,\n 'cart': 358,\n 'sprinklers': 7642,\n 'being': 154,\n \"people's\": 7268,\n 'soap.': 5650,\n 'climbing.': 1482,\n 'of': 12,\n 'bike': 114,\n 'swing': 447,\n 'bottle': 844,\n 'cement.': 6404,\n 'branches': 3616,\n 'leading': 1558,\n 'day.': 254,\n 'sees': 5607,\n 'ladder': 705,\n 'apart': 2420,\n 'wooded': 976,\n 'yellow': 59,\n 'leaves': 902,\n 'dog': 35,\n 'proud': 5521,\n 'squatting': 1740,\n 'open': 340,\n 'seated': 461,\n 'siding': 5627,\n 'ribbon': 2349,\n 'after': 361,\n 'acrobat': 6118,\n 'with': 13,\n 'flotation': 5162,\n 'door': 1091,\n 'high-fives': 4319,\n 'background.': 101,\n 'Singer': 4043,\n 'behind': 91,\n 'printed': 2347,\n 'arch': 4853,\n 'skater': 2362,\n 'Two': 17,\n 'hoses': 6909,\n 'flea': 4271,\n 'river.': 540,\n 'licked': 7030,\n 'hugged': 6915,\n 'groups': 1704,\n 'flute.': 6746,\n 'coach.': 4998,\n 'as': 53,\n 'friend': 1247,\n 'ocean.': 303,\n 'bag.': 732,\n 'await': 2885,\n 'blue': 28,\n 'medals': 7097,\n 'are': 14,\n 'jeans': 167,\n 'black': 26,\n 'city.': 325,\n 'all': 237,\n 'to': 16,\n 'jungle': 1630,\n 'Americans': 3518,\n 'or': 234,\n 'chopsticks': 4984,\n 'at': 18,\n 'hooded': 1334,\n 'buildings': 953,\n 'orchestra.': 5423,\n 'beach.': 136,\n 'wearing': 19,\n 'interested': 5257,\n 'meat': 937,\n 'next.': 5398,\n 'cafe.': 1476,\n 'another.': 825,\n 'people': 20,\n 'fences.': 6705,\n 'sculptor': 4537,\n 'fallen': 1093,\n 'shouts': 7530,\n 'without': 916,\n 'Oklahoma': 4034,\n 'girl': 31,\n 'lawn.': 1389,\n 'young': 22,\n 'punch': 3049,\n 'ponchos': 7309,\n 'play': 111,\n 'overweight': 2031,\n 'backpack': 380,\n 'motion.': 3814,\n 'crocodile': 5045,\n 'toy.': 661,\n 'surfboard.': 1523,\n 'his': 23,\n 'here': 3757,\n 'tux': 7844,\n 'skeleton': 7562,\n 'herself': 1795,\n 'toward': 456,\n 'stilts': 3087,\n 'ladders': 5297,\n 'things.': 3471,\n 'guitars.': 6835,\n 'home': 934,\n 'Profile': 6039,\n 'while': 25,\n 'Three': 50,\n 'shirt': 27,\n 'computer,': 6481,\n 'poster': 1818,\n 'The': 43,\n 'having': 218,\n 'downhill.': 5079,\n 'red': 30,\n 'jackets,': 5264,\n 'mouth': 383,\n 'pot': 1514,\n 'makeshift': 3795,\n 'Airline': 5900,\n 'suits.': 5718,\n 'uses': 562,\n 'brother': 2253,\n 'completing': 2926,\n 'boy': 33,\n 'fight.': 2296,\n 'slip': 4568,\n 'men': 36,\n 'riding': 73,\n 'computer': 613,\n 'Runners': 2234,\n 'boats': 1863,\n 'walking': 38,\n 'made': 770,\n 'Football': 3140,\n 'race': 259,\n 'barrels.': 6242,\n 'front': 40,\n 'crabs': 6523,\n 'for': 46,\n 'painter': 2756,\n 'holding': 41,\n 'smiles': 412,\n 'by': 44,\n 'large': 57,\n 'neck.': 2518,\n 'snowboard.': 3077,\n 'cityscape': 4988,\n 'hot': 598,\n 'designs': 3684,\n 'cups': 2936,\n 'escalator.': 1994,\n 'referee': 1450,\n 'hair,': 1385,\n 'drinking': 351,\n 'discussing': 1617,\n 'one': 47,\n 'kiddie': 4345,\n 'jacket.': 704,\n 'artwork': 3560,\n 'stone': 347,\n 'through': 55,\n 'looking': 49,\n 'sort': 776,\n 'women': 51,\n 'bowl.': 1277,\n 'loaded': 2733,\n 'flame': 6729,\n 'up': 52,\n 'rise': 7423,\n 'driving': 504,\n 'tags': 3464,\n 'sleeps.': 7578,\n 'child': 56,\n 'science': 2049,\n 'climber': 1281,\n 'arcade.': 3553,\n \"vendor's\": 5822,\n 'shirt,': 270,\n 'taxi': 1840,\n 'hikers': 1139,\n 'School': 2867,\n 'two': 58,\n 'substance': 7704,\n 'mugs.': 7147,\n 'walks.': 5840,\n 'from': 62,\n 'backwards': 1272,\n 'arm': 462,\n \"There's\": 4049,\n 'surfboard': 970,\n 'pocket': 7304,\n 'kid': 352,\n 'plush': 3854,\n 'toy': 261,\n 'firefighters': 1998,\n 'motion': 7136,\n 'excitement': 4253,\n 'wet': 617,\n 'their': 63,\n 'frisbee': 2300,\n 'raise': 3396,\n 'juice.': 5276,\n 'pushing': 402,\n 'into': 64,\n 'three': 186,\n 'assorted': 6187,\n 'number': 451,\n 'hand': 207,\n 'person': 65,\n 'material': 3801,\n 'bmx': 3604,\n 'scaffolds': 7468,\n 'outside': 66,\n 'cafe': 1605,\n 'next': 67,\n 'buys': 6360,\n 'handing': 2009,\n 'orchestra': 1718,\n 'beach': 162,\n 'shovel.': 1304,\n 'sleeveless': 1577,\n 'walk': 127,\n 'including': 901,\n 'mug': 3816,\n 'reaching': 792,\n 'series': 3422,\n 'villagers': 5830,\n 'viewing': 1751,\n 'cricket': 1883,\n 'rid': 7418,\n 'heritage': 6875,\n 'sing.': 5629,\n '5': 1668,\n 'street.': 68,\n 'plays': 117,\n 'rowers': 5583,\n 'button': 1374,\n 'dressed': 69,\n 'enjoying': 276,\n 'baked': 3573,\n 'Construction': 731,\n 'upward.': 3974,\n 'small': 70,\n 'tractor.': 2829,\n 'bar,': 3176,\n 'hat': 71,\n 'ride': 334,\n 'talk': 796,\n 'items': 837,\n 'tank-top': 7746,\n 'over': 72,\n 'upwards.': 5814,\n 'quaint': 4488,\n 'listens': 2023,\n 'flies': 878,\n 'thought': 7770,\n 'beards': 4093,\n 'amusement': 1271,\n 'children': 74,\n 'court.': 679,\n 'Hispanic': 4023,\n 'People': 75,\n 'old,': 3826,\n 'out': 76,\n 'lion': 3320,\n 'balancing': 1130,\n 'freight': 6762,\n 'tattoo': 972,\n 'lap.': 1101,\n 'around': 82,\n 'bat,': 4884,\n 'running': 78,\n 'swimmers': 2067,\n 'alleyway.': 2615,\n 'goods': 1788,\n 'river': 515,\n 'hardwood': 2707,\n 'coach': 1611,\n 'flute': 2299,\n 'rider,': 3403,\n 'desks': 3685,\n 'some': 80,\n 'water.': 81,\n 'Friends': 4019,\n 'rides': 206,\n 'talks': 531,\n 'cricket,': 6533,\n 'keyboard': 1906,\n 'armor': 4858,\n 'buildings.': 754,\n 'walk,': 7895,\n 'meat.': 2330,\n 'amongst': 1672,\n 'another': 83,\n 'african': 1531,\n 'orange': 84,\n 'railing.': 1350,\n 'tool.': 3107,\n 'Easter': 4764,\n 'Men': 263,\n 'photos': 1722,\n 'stands': 85,\n 'accompanies': 4832,\n 'water': 86,\n 'raises': 1647,\n 'soldering': 4579,\n 'sits': 87,\n 'pushed': 3395,\n 'supermarket': 7713,\n 'merry-go-round.': 5358,\n 'pose': 429,\n 'police': 384,\n 'building,': 1979,\n 'pinstriped': 3849,\n 'varying': 3976,\n 'jacket': 88,\n 'Spectators': 2235,\n 'tv.': 7845,\n 'doorstep': 6616,\n 'tag': 1839,\n 'jumping': 89,\n 'sprinkled': 5674,\n 'hula': 1141,\n 'lens': 5318,\n 'market.': 428,\n 'pink': 90,\n 'costume.': 1428,\n 'dunk': 5093,\n 'beverages': 4100,\n 'bikini': 621,\n 'inside': 278,\n 'i': 5246,\n 'block.': 3601,\n 'ball': 92,\n 'several': 300,\n 'strike': 3939,\n 'mechanic': 5352,\n 'gift': 2306,\n 'Man': 93,\n 'Indians': 5974,\n 'bride': 713,\n 'almost': 2418,\n 'puppet': 3393,\n 'cellphone': 519,\n 'defenders.': 6572,\n 'looks': 94,\n 'table': 123,\n 'nap': 1343,\n 'work': 267,\n 'Athlete': 5909,\n 'filling': 1997,\n 'written': 3513,\n 'younger': 563,\n 'bottles.': 2900,\n 'tugging': 3966,\n 'player': 96,\n 'examining': 1284,\n 'destination.': 3238,\n 'projector': 3867,\n 'stunning': 7697,\n 'father': 896,\n 'clap': 3650,\n 'window,': 7934,\n 'scuba': 1573,\n 'sand': 304,\n 'mixture': 7124,\n 'photo': 435,\n 'stand': 97,\n 'Team': 4821,\n 'that': 98,\n 'jogging': 962,\n 'daytime': 5057,\n 'lifting': 1802,\n 'meal.': 1393,\n 'bicycle.': 508,\n 'buoy': 6346,\n 'top': 99,\n 'east': 4245,\n 'dance': 394,\n 'cast': 3640,\n 'camera': 212,\n 'pajamas,': 7228,\n 'denim': 1181,\n 'shirtless,': 2556,\n 'crowd': 100,\n 'chases': 1007,\n 'handles.': 4307,\n 'along': 102,\n 'art': 620,\n 'lots': 1105,\n 'feathers': 5136,\n 'barefoot': 827,\n 'hay': 2010,\n 'wall.': 188,\n 'cheek.': 2648,\n 'marked': 3008,\n 'older': 103,\n 'sleeps': 885,\n 'signs.': 2053,\n 'taking': 134,\n 'Somebody': 4044,\n 'ways.': 7914,\n 'arcade': 3168,\n 'toil': 7789,\n 'this': 560,\n 'mix': 3016,\n 'goggles,': 2479,\n 'last': 3783,\n 'tray.': 7812,\n 'cobblestone': 1776,\n 'sport.': 3083,\n 'devil': 6593,\n 'walks': 104,\n 'teams.': 7753,\n 'dreadlocks': 1691,\n 'oriental': 1112,\n 'sky,': 7570,\n 'took': 5776,\n 'dogs': 105,\n 'diving.': 5073,\n 'Pitcher': 4802,\n 'Japanese': 1314,\n 'collar.': 3654,\n 'see.': 7494,\n 'off': 106,\n 'presentation.': 3864,\n 'spike': 3930,\n 'Woman': 247,\n 'yet': 5870,\n 'dark-haired': 845,\n 'headbands': 5221,\n 'chairs,': 4973,\n 'yard.': 730,\n 'onlookers.': 1508,\n 'five': 769,\n 'lady': 107,\n 'restaurant.': 403,\n 'pointed': 3046,\n 'working': 108,\n 'fence.': 392,\n 'pitched': 5478,\n 'cars.': 1768,\n 'tattered': 4644,\n 'during': 195,\n 'aprons': 2881,\n 'building.': 109,\n 'horseback.': 4328,\n 'Older': 1049,\n 'about.': 6115,\n 'dress': 110,\n 'warming': 3120,\n 'wicker': 4717,\n 'it': 297,\n 'airport': 2614,\n 'washing': 763,\n 'mesmerized': 5360,\n 'theater': 3470,\n 'trying': 236,\n 'attempting': 670,\n 'knife,': 6987,\n 'boys': 112,\n 'completes': 6480,\n 'has': 113,\n 'member': 1806,\n 'sexy': 5609,\n 'bagpipes': 3173,\n 'textile': 7766,\n 'gray': 115,\n 'process': 3048,\n 'mother': 639,\n 'students': 697,\n 'weeds': 7917,\n 'talking': 116,\n 'Islamic': 5975,\n 'grass.': 130,\n 'tile': 2069,\n 'patch': 2525,\n 'frown': 6771,\n 'him,': 5228,\n 'Asian': 118,\n 'locomotives': 7053,\n 'holds': 120,\n 'skier': 668,\n 'grabbing': 2480,\n 'dropped': 5086,\n 'gestures': 1900,\n 'athletic': 1316,\n 'can': 802,\n 'pier': 1348,\n 'well.': 2398,\n 'Four': 121,\n 'clear': 1176,\n 'cotton': 2929,\n 'tap': 5742,\n 'city': 122,\n 'season.': 5603,\n 'gas': 1624,\n 'chalkboard.': 2917,\n 'pass.': 3835,\n 'both': 407,\n 'bench': 190,\n 'button-up': 3626,\n 'win': 3991,\n 'unicycle.': 4682,\n 'instruments': 742,\n 'Park': 6030,\n 'hair': 124,\n 'cupcakes': 5050,\n 'view': 517,\n 'carrying': 125,\n 'enthusiastic': 6669,\n 'sit': 126,\n 'wigs': 7929,\n 'air': 128,\n 'couple': 129,\n 'competing': 623,\n 'boarding': 3186,\n 'celebrating': 1540,\n 'runs.': 5590,\n 'calf.': 4133,\n 'outfits': 882,\n 'between': 406,\n 'individuals': 1036,\n 'female,': 3263,\n 'facing': 614,\n 'guitar': 158,\n 'Evening': 5951,\n 'marina.': 5343,\n 'Several': 131,\n 'burgundy': 1980,\n 'quickly': 2541,\n 'sunlight': 3096,\n 'red-hair': 1351,\n 'something': 132,\n 'column.': 5009,\n 'sidewalk.': 147,\n 'cakes': 4944,\n 'ball.': 133,\n 'basketball.': 1083,\n 'court': 1322,\n 'each': 135,\n 'champagne': 4975,\n 'purses': 4486,\n 'mud': 1146,\n 'food': 137,\n 'foreground,': 3274,\n 'doing': 138,\n 'padding': 4434,\n 'path': 465,\n 'chasing': 646,\n 'loom.': 2327,\n 'award': 3566,\n 'old': 139,\n 'half': 1627,\n 'across': 140,\n 'tables': 971,\n 'fierce': 6710,\n 'field.': 141,\n 'rural': 1572,\n 'glasses': 142,\n 'recliner.': 7393,\n 'station.': 747,\n 'inner': 5255,\n 'column': 5008,\n 'sidewalk': 143,\n 'courtyard.': 1686,\n 'parallel': 3832,\n 'tutus': 5802,\n 'pulling': 466,\n 'Children': 367,\n 'toss': 5779,\n 'shorts': 144,\n 'Soldiers': 4813,\n 'mechanical': 4387,\n 'bike.': 365,\n 'blacktop': 6280,\n 'backhand': 4876,\n 'scene.': 1650,\n 'kayaker': 6976,\n 'field': 145,\n 'fans.': 2956,\n 'window.': 434,\n 'hillside': 2711,\n 'dinner.': 1887,\n 'poised': 4467,\n 'microphone': 441,\n 'cage.': 4132,\n 'baby': 146,\n 'watched': 2396,\n 'Guy': 1048,\n 'male': 148,\n 'sweater': 345,\n 'surgery': 4628,\n 'smiling': 149,\n 'location.': 3004,\n 'films': 5148,\n 'book': 426,\n 'tan': 262,\n 'watering': 3505,\n 'very': 241,\n 'late': 3784,\n 'night': 817,\n 'peeling': 4447,\n 'skate': 793,\n 'bikes': 585,\n 'pants': 150,\n 'Sports': 4815,\n 'Jack': 4784,\n 'strapped': 2807,\n 'room': 310,\n 'jumps': 151,\n 'Hikers': 4778,\n 'picture': 152,\n 'farm.': 3717,\n 'bus.': 700,\n 'building': 153,\n 'horseback': 2013,\n 'cones.': 1614,\n 'pointing': 641,\n 'lane': 2161,\n 'movie': 2027,\n 'what': 484,\n 'pitching': 3375,\n 'package.': 3828,\n 'house.': 511,\n 'light': 328,\n 'road.': 235,\n 'turkey': 3492,\n 'carriage.': 3201,\n 'money': 1637,\n 'axe.': 4078,\n 'shapes': 5615,\n 'One': 214,\n 'who': 155,\n 'muscular': 3022,\n 'bus,': 2905,\n 'preparing': 359,\n 'eggs': 2291,\n 'bed.': 828,\n 'rose': 7433,\n 'blond': 156,\n 'side': 159,\n 'barrier': 2621,\n 'vests': 507,\n 'coveralls': 4182,\n 'watching': 160,\n 'forest': 757,\n 'doors.': 2948,\n 'rock': 161,\n 'guy': 163,\n 'performing': 164,\n 'white,': 548,\n 'fun': 960,\n 'driveway': 3241,\n 'band,': 3576,\n 'overhang.': 7213,\n 'using': 165,\n 'female': 166,\n 'do': 783,\n 'hoops': 2713,\n 'subway': 491,\n 'jumped': 2498,\n 'snow.': 168,\n 'snow': 169,\n 'screen.': 1072,\n 'lifted': 2324,\n 'clothing': 253,\n 'under': 170,\n 'discussion.': 3691,\n 'public': 444,\n 'streaks': 5702,\n 'microphones.': 2743,\n 'dirt': 171,\n 'robes': 1352,\n 'people.': 293,\n 'foliage': 4276,\n 'fill': 2961,\n 'striped': 172,\n 'mini': 7117,\n 'ornate': 1509,\n 'bicycle': 174,\n 'meal': 855,\n 'no': 589,\n 'swims': 1078,\n 'civilians': 6441,\n 'blank': 6281,\n 'incline.': 2985,\n 'display.': 1244,\n 'car': 175,\n 'pain.': 7224,\n 'kissing': 683,\n 'grasps': 6811,\n 'curb': 1780,\n 'run-down': 3892,\n 'park.': 176,\n 'participate': 1720,\n 'dolphin': 4217,\n 'board.': 736,\n 'purple': 177,\n 'selling': 389,\n 'standing,': 2806,\n 'sweatpants': 7728,\n 'leashed': 7013,\n 'eating': 178,\n 'iPod.': 5247,\n 'calf': 1867,\n 'have': 416,\n 'runs': 179,\n 'karaoke': 6973,\n 'interior': 6942,\n 'window': 371,\n 'emerges': 3708,\n 'places': 2038,\n 'shows': 857,\n 'baseball': 180,\n 'prints.': 7342,\n 'stripes': 1945,\n 'surfboards.': 7718,\n 'cars': 672,\n 'excitedly': 3250,\n 'restaurant': 411,\n 'toys.': 1525,\n 'fence': 554,\n 'Basketball': 3520,\n 'pockets.': 7305,\n 'he': 181,\n 'kids.': 3307,\n 'grin': 6820,\n 'artwork.': 4861,\n 'long': 182,\n 'blocked': 3602,\n 'crosscountry': 2935,\n 'SCUBA': 6050,\n 'close': 738,\n 'Young': 183,\n 'personnel': 3368,\n 'mauve': 7094,\n 'class.': 1609,\n \"women's\": 2401,\n 'camper': 4950,\n 'performs': 490,\n 'hats': 318,\n 'look': 184,\n '2': 420,\n 'signs': 944,\n 'teammate.': 3953,\n 'adventurous': 6127,\n 'jacket,': 880,\n 'xylophone': 5866,\n 'era': 4250,\n 'instruments.': 850,\n 'win.': 7932,\n 'bench.': 343,\n 'puppies.': 7356,\n 'cheek': 4979,\n 'wall': 185,\n 'flip-flops': 1785,\n 'Park.': 6031,\n 'hair.': 786,\n 'vertical': 3977,\n 'Mrs.': 6012,\n 'midair.': 1108,\n 'reading': 187,\n 'dancers': 927,\n 'road': 281,\n 'ended': 6658,\n 'carriage': 1479,\n 'package': 5438,\n 'Police': 2088,\n 'throat.': 7773,\n 'think': 4656,\n 'house': 758,\n 'climbs': 647,\n 'free': 2003,\n 'laying': 257,\n 'beating': 2892,\n 'dental': 6579,\n 'floor': 388,\n '13': 5886,\n 'There': 189,\n 'its': 192,\n 'statue': 748,\n 'not,': 5407,\n 'doorway.': 1889,\n 'coat': 193,\n 'taken.': 2575,\n 'on.': 194,\n 'barefooted': 2620,\n 'jackets': 626,\n 'football': 196,\n 'garage,': 6780,\n '%': 5881,\n 'baskets': 1534,\n 'leaps': 599,\n 'team,': 2577,\n 'helmet': 249,\n 'Maintenance': 5997,\n 'suit': 197,\n 'towed': 5782,\n 'crowd.': 306,\n 'meadow': 7095,\n 'pretends': 5510,\n 'wrestling': 977,\n 'Younger': 4830,\n 'busy': 248,\n 'actively': 4059,\n 'camera.': 198,\n 'hiker': 961,\n 'players': 199,\n 'crying.': 1988,\n ...}"
     },
     "execution_count": 5,
     "metadata": {},
     "output_type": "execute_result"
    }
   ],
   "source": [
    "# 单词转词表下标\n",
    "src_vocab.get_stoi()"
   ],
   "metadata": {
    "collapsed": false
   }
  },
  {
   "cell_type": "code",
   "execution_count": 6,
   "outputs": [
    {
     "data": {
      "text/plain": "TextTransform(\n  (vocab): Vocab()\n)"
     },
     "execution_count": 6,
     "metadata": {},
     "output_type": "execute_result"
    }
   ],
   "source": [
    "# data transforms\n",
    "src_transform = TextTransform(src_tokenizer, src_vocab, CONF)\n",
    "tgt_transform = TextTransform(tgt_tokenizer, tgt_vocab, CONF)\n",
    "src_transform"
   ],
   "metadata": {
    "collapsed": false
   }
  },
  {
   "cell_type": "code",
   "execution_count": 7,
   "outputs": [
    {
     "data": {
      "text/plain": "<torch.utils.data.dataloader.DataLoader at 0x1e179a079b0>"
     },
     "execution_count": 7,
     "metadata": {},
     "output_type": "execute_result"
    }
   ],
   "source": [
    "# get data loaders\n",
    "train_dataloader = get_dataloader(train_data, src_transform, tgt_transform, CONF)\n",
    "valid_dataloader = get_dataloader(valid_data, src_transform, tgt_transform, CONF)\n",
    "test_dataloader = get_dataloader(test_data, src_transform, tgt_transform, CONF)\n",
    "test_dataloader"
   ],
   "metadata": {
    "collapsed": false
   }
  },
  {
   "cell_type": "code",
   "execution_count": 8,
   "outputs": [
    {
     "data": {
      "text/plain": "Seq2Seq(\n  (encoder): Encoder(\n    (tok_embedding): Embedding(7964, 32)\n    (pos_embedding): Embedding(1024, 32)\n    (emb2hid): Linear(in_features=32, out_features=32, bias=True)\n    (hid2emb): Linear(in_features=32, out_features=32, bias=True)\n    (convs): ModuleList(\n      (0): Conv1d(32, 64, kernel_size=(3,), stride=(1,), padding=(1,))\n      (1): Conv1d(32, 64, kernel_size=(3,), stride=(1,), padding=(1,))\n    )\n    (dropout): Dropout(p=0.25, inplace=False)\n  )\n  (decoder): Decoder(\n    (tok_embedding): Embedding(9762, 32)\n    (pos_embedding): Embedding(1024, 32)\n    (emb2hid): Linear(in_features=32, out_features=32, bias=True)\n    (hid2emb): Linear(in_features=32, out_features=32, bias=True)\n    (attn_hid2emb): Linear(in_features=32, out_features=32, bias=True)\n    (attn_emb2hid): Linear(in_features=32, out_features=32, bias=True)\n    (fc_out): Linear(in_features=32, out_features=9762, bias=True)\n    (convs): ModuleList(\n      (0): Conv1d(32, 64, kernel_size=(3,), stride=(1,))\n      (1): Conv1d(32, 64, kernel_size=(3,), stride=(1,))\n    )\n    (dropout): Dropout(p=0.25, inplace=False)\n  )\n)"
     },
     "execution_count": 8,
     "metadata": {},
     "output_type": "execute_result"
    }
   ],
   "source": [
    "# create model\n",
    "encoder = Encoder(input_dim = len(src_vocab),\n",
    "                  emb_dim = CONF['embed_size'],\n",
    "                  hid_dim = CONF['hidden_size'],\n",
    "                  n_layers = CONF['encoder_layers'],\n",
    "                  kernel_size = CONF['kernel_size'],\n",
    "                  dropout = CONF['dropout'],\n",
    "                  device = DEVICE,\n",
    "                  max_length=CONF['max_length'],\n",
    ")\n",
    "decoder = Decoder(output_dim = len(tgt_vocab),\n",
    "                  emb_dim = CONF['embed_size'],\n",
    "                  hid_dim = CONF['hidden_size'],\n",
    "                  n_layers = CONF['decoder_layers'],\n",
    "                  kernel_size = CONF['kernel_size'],\n",
    "                  dropout = CONF['dropout'],\n",
    "                  tgt_pad_idx = CONF[\"special_tokens\"][CONF['pad_token']],\n",
    "                  device = DEVICE,\n",
    "                  max_length=CONF['max_length'],\n",
    ")\n",
    "convs2s = Seq2Seq(encoder, decoder).to(DEVICE)\n",
    "convs2s"
   ],
   "metadata": {
    "collapsed": false
   }
  },
  {
   "cell_type": "code",
   "execution_count": 9,
   "outputs": [],
   "source": [
    "# create optimizer and criterion\n",
    "optimizer = torch.optim.Adam(convs2s.parameters())\n",
    "criterion = torch.nn.CrossEntropyLoss(ignore_index = CONF[\"special_tokens\"][CONF['pad_token']])"
   ],
   "metadata": {
    "collapsed": false
   }
  },
  {
   "cell_type": "code",
   "execution_count": 10,
   "outputs": [],
   "source": [
    "# ss = \"i lost .\".lower().split(' ')\n",
    "#\n",
    "# # 查找单词所在的索引\n",
    "# src_vocab.lookup_indices(ss)"
   ],
   "metadata": {
    "collapsed": false
   }
  },
  {
   "cell_type": "code",
   "execution_count": 11,
   "outputs": [
    {
     "name": "stderr",
     "output_type": "stream",
     "text": [
      "Training 1: 100%|██████████| 454/454 [01:03<00:00,  7.17it/s]\n",
      "Evaluating: 100%|██████████| 16/16 [00:00<00:00, 16.28it/s]\n"
     ]
    },
    {
     "name": "stdout",
     "output_type": "stream",
     "text": [
      "Epoch: 01 | Time: 1m 4s\n",
      "\tTrain Loss: 5.926 | Train PPL: 374.667\n",
      "\t Val. Loss: 4.920 |  Val. PPL: 137.022\n"
     ]
    },
    {
     "name": "stderr",
     "output_type": "stream",
     "text": [
      "Training 2: 100%|██████████| 454/454 [01:04<00:00,  7.09it/s]\n",
      "Evaluating: 100%|██████████| 16/16 [00:00<00:00, 17.03it/s]\n"
     ]
    },
    {
     "name": "stdout",
     "output_type": "stream",
     "text": [
      "Epoch: 02 | Time: 1m 4s\n",
      "\tTrain Loss: 5.050 | Train PPL: 156.045\n",
      "\t Val. Loss: 4.511 |  Val. PPL:  91.005\n"
     ]
    },
    {
     "name": "stderr",
     "output_type": "stream",
     "text": [
      "Training 3: 100%|██████████| 454/454 [01:03<00:00,  7.19it/s]\n",
      "Evaluating: 100%|██████████| 16/16 [00:00<00:00, 17.85it/s]\n"
     ]
    },
    {
     "name": "stdout",
     "output_type": "stream",
     "text": [
      "Epoch: 03 | Time: 1m 4s\n",
      "\tTrain Loss: 4.759 | Train PPL: 116.595\n",
      "\t Val. Loss: 4.274 |  Val. PPL:  71.828\n"
     ]
    },
    {
     "name": "stderr",
     "output_type": "stream",
     "text": [
      "Training 4: 100%|██████████| 454/454 [01:03<00:00,  7.19it/s]\n",
      "Evaluating: 100%|██████████| 16/16 [00:00<00:00, 18.19it/s]\n"
     ]
    },
    {
     "name": "stdout",
     "output_type": "stream",
     "text": [
      "Epoch: 04 | Time: 1m 4s\n",
      "\tTrain Loss: 4.563 | Train PPL:  95.823\n",
      "\t Val. Loss: 4.105 |  Val. PPL:  60.622\n"
     ]
    },
    {
     "name": "stderr",
     "output_type": "stream",
     "text": [
      "Training 5: 100%|██████████| 454/454 [01:04<00:00,  7.04it/s]\n",
      "Evaluating: 100%|██████████| 16/16 [00:00<00:00, 18.72it/s]\n"
     ]
    },
    {
     "name": "stdout",
     "output_type": "stream",
     "text": [
      "Epoch: 05 | Time: 1m 5s\n",
      "\tTrain Loss: 4.410 | Train PPL:  82.272\n",
      "\t Val. Loss: 3.970 |  Val. PPL:  52.979\n"
     ]
    },
    {
     "name": "stderr",
     "output_type": "stream",
     "text": [
      "Training 6: 100%|██████████| 454/454 [01:02<00:00,  7.22it/s]\n",
      "Evaluating: 100%|██████████| 16/16 [00:00<00:00, 18.28it/s]\n"
     ]
    },
    {
     "name": "stdout",
     "output_type": "stream",
     "text": [
      "Epoch: 06 | Time: 1m 3s\n",
      "\tTrain Loss: 4.282 | Train PPL:  72.377\n",
      "\t Val. Loss: 3.835 |  Val. PPL:  46.314\n"
     ]
    },
    {
     "name": "stderr",
     "output_type": "stream",
     "text": [
      "Training 7: 100%|██████████| 454/454 [01:02<00:00,  7.23it/s]\n",
      "Evaluating: 100%|██████████| 16/16 [00:00<00:00, 17.70it/s]\n"
     ]
    },
    {
     "name": "stdout",
     "output_type": "stream",
     "text": [
      "Epoch: 07 | Time: 1m 3s\n",
      "\tTrain Loss: 4.164 | Train PPL:  64.337\n",
      "\t Val. Loss: 3.713 |  Val. PPL:  40.959\n"
     ]
    },
    {
     "name": "stderr",
     "output_type": "stream",
     "text": [
      "Training 8: 100%|██████████| 454/454 [01:03<00:00,  7.19it/s]\n",
      "Evaluating: 100%|██████████| 16/16 [00:00<00:00, 18.58it/s]\n"
     ]
    },
    {
     "name": "stdout",
     "output_type": "stream",
     "text": [
      "Epoch: 08 | Time: 1m 3s\n",
      "\tTrain Loss: 4.057 | Train PPL:  57.793\n",
      "\t Val. Loss: 3.599 |  Val. PPL:  36.557\n"
     ]
    },
    {
     "name": "stderr",
     "output_type": "stream",
     "text": [
      "Training 9: 100%|██████████| 454/454 [01:02<00:00,  7.31it/s]\n",
      "Evaluating: 100%|██████████| 16/16 [00:00<00:00, 18.04it/s]\n"
     ]
    },
    {
     "name": "stdout",
     "output_type": "stream",
     "text": [
      "Epoch: 09 | Time: 1m 3s\n",
      "\tTrain Loss: 3.955 | Train PPL:  52.185\n",
      "\t Val. Loss: 3.487 |  Val. PPL:  32.686\n"
     ]
    },
    {
     "name": "stderr",
     "output_type": "stream",
     "text": [
      "Training 10: 100%|██████████| 454/454 [01:01<00:00,  7.33it/s]\n",
      "Evaluating: 100%|██████████| 16/16 [00:00<00:00, 18.62it/s]"
     ]
    },
    {
     "name": "stdout",
     "output_type": "stream",
     "text": [
      "Epoch: 10 | Time: 1m 2s\n",
      "\tTrain Loss: 3.854 | Train PPL:  47.162\n",
      "\t Val. Loss: 3.378 |  Val. PPL:  29.325\n"
     ]
    },
    {
     "name": "stderr",
     "output_type": "stream",
     "text": [
      "\n"
     ]
    }
   ],
   "source": [
    "# train\n",
    "train(  convs2s,\n",
    "        criterion,\n",
    "        train_dataloader,\n",
    "        valid_dataloader,\n",
    "        optimizer,\n",
    "        CONF[\"epochs\"],\n",
    "        CONF[\"clip\"],\n",
    ")"
   ],
   "metadata": {
    "collapsed": false
   }
  },
  {
   "cell_type": "code",
   "execution_count": 12,
   "outputs": [],
   "source": [
    "def translate_sentence(sentence, src_field, trg_field, model, device, max_len=50):\n",
    "    convs2s.eval()\n",
    "\n",
    "    tokens = [token.lower() for token in src]\n",
    "    tokens = ['<s>'] + tokens + ['</s>']\n",
    "    # print(\"tokens: \\t\", tokens)\n",
    "\n",
    "    src_indexes = src_vocab.lookup_indices(tokens)\n",
    "    src_tensor = torch.LongTensor(src_indexes).unsqueeze(0).to(device)\n",
    "\n",
    "    with torch.no_grad():\n",
    "        encoder_conved, encoder_combined = convs2s.encoder(src_tensor)\n",
    "\n",
    "    trg_indexes = tgt_vocab.lookup_indices(['<s>'])\n",
    "\n",
    "    for i in range(50):\n",
    "        trg_tensor = torch.LongTensor(trg_indexes).unsqueeze(0).to(device)\n",
    "        with torch.no_grad():\n",
    "            output, attention = convs2s.decoder(trg_tensor, encoder_conved, encoder_combined)\n",
    "\n",
    "        pred_token = output.argmax(2)[:, -1].item()\n",
    "        trg_indexes.append(pred_token)\n",
    "\n",
    "        if pred_token == tgt_vocab.lookup_indices(['</s>'])[0]:\n",
    "            break\n",
    "\n",
    "    trg_tokens = tgt_vocab.lookup_tokens(trg_indexes)\n",
    "    return trg_tokens[1:], attention\n",
    "\n",
    "\n",
    "def display_attention(sentence, translation, attention):\n",
    "    fig = plt.figure(figsize=(10, 10))\n",
    "    ax = fig.add_subplot(111)\n",
    "\n",
    "    attention = attention.squeeze(0).cpu().detach().numpy()\n",
    "\n",
    "    cax = ax.matshow(attention)\n",
    "\n",
    "    ax.tick_params(labelsize=15)\n",
    "    ax.set_xticklabels([''] + ['<s>'] + [t.lower() for t in sentence] + ['</s>'],\n",
    "                       rotation=45)\n",
    "    ax.set_yticklabels([''] + translation)\n",
    "\n",
    "    ax.xaxis.set_major_locator(ticker.MultipleLocator(1))\n",
    "    ax.yaxis.set_major_locator(ticker.MultipleLocator(1))\n",
    "\n",
    "    plt.show()\n",
    "    plt.close()\n",
    "\n",
    "\n",
    "def truncate_pad(line, num_steps, padding_token):\n",
    "    \"\"\"Truncate or pad sequences.\n",
    "\n",
    "    Defined in :numref:`sec_machine_translation`\"\"\"\n",
    "    if len(line) > num_steps:\n",
    "        return line[:num_steps]  # Truncate\n",
    "    return line + [padding_token] * (num_steps - len(line))  # Pad\n",
    "\n",
    "def predict_seq2seq(net, src_sentence, src_vocab, tgt_vocab, num_steps,\n",
    "                    device, save_attention_weights=False):\n",
    "    \"\"\"序列到序列模型的预测\"\"\"\n",
    "    # 在预测时将net设置为评估模式\n",
    "    net.eval()\n",
    "    src_tokens = src_vocab.lookup_indices(src_sentence.lower().split(' ')) + src_vocab.lookup_indices(['</s>'])\n",
    "    # src_tokens = src_vocab[src_sentence.lower().split(' ')] + [\n",
    "    #     src_vocab['</s>']]\n",
    "    enc_valid_len = torch.tensor([len(src_tokens)], device=device)\n",
    "    src_tokens = truncate_pad(src_tokens, num_steps, src_vocab['<pad>'])\n",
    "    # 添加批量轴\n",
    "    enc_X = torch.unsqueeze(\n",
    "        torch.tensor(src_tokens, dtype=torch.long, device=device), dim=0)\n",
    "    enc_outputs = net.encoder(enc_X, enc_valid_len)\n",
    "    dec_state = net.decoder.init_state(enc_outputs, enc_valid_len)\n",
    "    # 添加批量轴\n",
    "    dec_X = torch.unsqueeze(torch.tensor(\n",
    "        [tgt_vocab['<s>']], dtype=torch.long, device=device), dim=0)\n",
    "    output_seq, attention_weight_seq = [], []\n",
    "    for _ in range(num_steps):\n",
    "        Y, dec_state = net.decoder(dec_X, dec_state)\n",
    "        # 我们使用具有预测最高可能性的词元，作为解码器在下一时间步的输入\n",
    "        dec_X = Y.argmax(dim=2)\n",
    "        pred = dec_X.squeeze(dim=0).type(torch.int32).item()\n",
    "        # 保存注意力权重（稍后讨论）\n",
    "        if save_attention_weights:\n",
    "            attention_weight_seq.append(net.decoder.attention_weights)\n",
    "        # 一旦序列结束词元被预测，输出序列的生成就完成了\n",
    "        if pred == tgt_vocab['</s>']:\n",
    "            break\n",
    "        output_seq.append(pred)\n",
    "    return ' '.join(tgt_vocab.to_tokens(output_seq)), attention_weight_seq\n"
   ],
   "metadata": {
    "collapsed": false
   }
  },
  {
   "cell_type": "code",
   "execution_count": 13,
   "outputs": [],
   "source": [
    "# engs = ['go .', \"i lost .\", 'he\\'s calm .', 'i\\'m home .']\n",
    "# fras = ['va !', 'j\\'ai perdu .', 'il est calme .', 'je suis chez moi .']\n",
    "# for eng, fra in zip(engs, fras):\n",
    "#     translation, attention_weight_seq = predict_seq2seq(\n",
    "#         convs2s, eng, src_vocab, tgt_vocab, 10, DEVICE)\n",
    "#     print(f'{eng} => {translation}')"
   ],
   "metadata": {
    "collapsed": false
   }
  },
  {
   "cell_type": "code",
   "execution_count": 16,
   "outputs": [
    {
     "name": "stdout",
     "output_type": "stream",
     "text": [
      "['Ein', 'Personen', 'in', 'einem', '<unk>', 'und', 'die', '<unk>', '<unk>', '<unk>', '<unk>', '<unk>', '</s>']\n"
     ]
    }
   ],
   "source": [
    "src = ['a', 'group', 'of', 'people', 'having', 'a', 'barbecue', 'in', 'the', 'park', '.']\n",
    "tgt = []\n",
    "translation, attention = translate_sentence(src, src_vocab, tgt_vocab, convs2s, DEVICE)\n",
    "print(translation)"
   ],
   "metadata": {
    "collapsed": false
   }
  },
  {
   "cell_type": "code",
   "execution_count": 17,
   "outputs": [
    {
     "name": "stderr",
     "output_type": "stream",
     "text": [
      "D:\\Software\\Anaconda\\envs\\torch1.9\\lib\\site-packages\\ipykernel_launcher.py:41: UserWarning: FixedFormatter should only be used together with FixedLocator\n",
      "D:\\Software\\Anaconda\\envs\\torch1.9\\lib\\site-packages\\ipykernel_launcher.py:42: UserWarning: FixedFormatter should only be used together with FixedLocator\n"
     ]
    },
    {
     "data": {
      "text/plain": "<Figure size 720x720 with 1 Axes>",
      "image/png": "[encoded data removed]"
     },
     "metadata": {
      "needs_background": "light"
     },
     "output_type": "display_data"
    }
   ],
   "source": [
    "display_attention(src, translation, attention)"
   ],
   "metadata": {
    "collapsed": false
   }
  },
  {
   "cell_type": "code",
   "execution_count": 15,
   "outputs": [],
   "source": [],
   "metadata": {
    "collapsed": false
   }
  },
  {
   "cell_type": "code",
   "execution_count": 15,
   "outputs": [],
   "source": [],
   "metadata": {
    "collapsed": false
   }
  }
 ],
 "metadata": {
  "kernelspec": {
   "name": "torch1.9",
   "language": "python",
   "display_name": "torch1.9"
  },
  "language_info": {
   "codemirror_mode": {
    "name": "ipython",
    "version": 2
   },
   "file_extension": ".py",
   "mimetype": "text/x-python",
   "name": "python",
   "nbconvert_exporter": "python",
   "pygments_lexer": "ipython2",
   "version": "2.7.6"
  }
 },
 "nbformat": 4,
 "nbformat_minor": 0
}
