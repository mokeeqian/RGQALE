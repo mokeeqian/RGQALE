{
 "cells": [
  {
   "cell_type": "code",
   "execution_count": 1,
   "outputs": [],
   "source": [
    "import spacy as spacy\n",
    "import torch\n",
    "from matplotlib import pyplot as plt, ticker\n",
    "from torchtext.legacy import data\n",
    "\n",
    "from utils import *\n",
    "from model import *\n",
    "from dataloader import *\n",
    "from transform import TextTransform\n",
    "from train import train\n",
    "\n",
    "\n",
    "# load configurations\n",
    "CONF = load_conf()\n",
    "# add special characters to config\n",
    "CONF[\"special_tokens\"] = {\n",
    "    CONF[\"unk_token\"]: 0,\n",
    "    CONF[\"pad_token\"]: 1,\n",
    "    CONF[\"sos_token\"]: 2,\n",
    "    CONF[\"eos_token\"]: 3,\n",
    "}\n",
    "\n",
    "# set seed\n",
    "set_seed(CONF['seed'])\n",
    "\n",
    "# get device\n",
    "DEVICE = torch.device('cuda:0' if torch.cuda.is_available() else 'cpu')"
   ],
   "metadata": {
    "collapsed": false
   }
  },
  {
   "cell_type": "code",
   "execution_count": 2,
   "outputs": [],
   "source": [
    "# load tokenizers\n",
    "tokenizer = load_tokenizer(CONF['tokenizer'], 'en')"
   ],
   "metadata": {
    "collapsed": false
   }
  },
  {
   "cell_type": "code",
   "execution_count": 3,
   "outputs": [],
   "source": [
    "# from torchtext import datasets\n",
    "#\n",
    "# type = 'home'\n",
    "# QUESTION = data.Field()\n",
    "# ANSWER = data.Field()\n",
    "# fields = {'question': ('q', QUESTION), 'answer': ('a', ANSWER)}\n",
    "#\n",
    "# train_data, test_data = data.TabularDataset.splits(\n",
    "#                             path = '../dataset/amazon-qa/'+type,\n",
    "#                             train = 'train_qa.txt',\n",
    "#                             test = 'test_qa.txt',\n",
    "#                             format = 'json',\n",
    "#                             fields = fields\n",
    "# )\n",
    "# print(vars(train_data[0]))\n",
    "# 构建词表\n",
    "# `QUESTION.build_vocab(train_data, min_freq=CONF['min_freq'], specials = list(CONF['special_tokens'].keys()))\n",
    "# ANSWER.build_vocab(train_data, min_freq=CONF['min_freq'], specials = list(CONF['special_tokens'].keys()))`\n",
    "#\n",
    "# # 构建迭代器\n",
    "# train_iterator, test_iterator = data.BucketIterator.splits(\n",
    "#     (train_data,  test_data),\n",
    "#     sort = False, #don't sort test/validation data\n",
    "#     batch_size=CONF['batch_size'],\n",
    "#     device='cpu'\n",
    "# )\n",
    "\n"
   ],
   "metadata": {
    "collapsed": false
   }
  },
  {
   "cell_type": "code",
   "execution_count": 4,
   "outputs": [],
   "source": [
    "train_data, test_data = load_amazonqa(\"../dataset/amazon-qa/home/train_qa.txt\", \"../dataset/amazon-qa/home/test_qa.txt\")\n",
    "\n",
    "vocab = get_vocab(load_both_iter(train_data), tokenizer, CONF)\n",
    "\n",
    "transform = TextTransform(tokenizer, vocab, CONF)\n",
    "\n",
    "train_dataloader = get_dataloader(train_data, transform, transform, CONF)\n",
    "test_dataloader = get_dataloader(test_data, transform, transform, CONF)"
   ],
   "metadata": {
    "collapsed": false
   }
  },
  {
   "cell_type": "code",
   "execution_count": 5,
   "outputs": [],
   "source": [
    "def translate_sentence(sentence, src_field, trg_field, model, device, max_len=50):\n",
    "    model.eval()\n",
    "\n",
    "    # 如果是句子，则分词\n",
    "    if isinstance(sentence, str):\n",
    "        nlp = spacy.load('en')\n",
    "        tokens = [token.text.lower() for token in nlp(sentence)]\n",
    "    else:\n",
    "        tokens = [token.lower() for token in sentence]\n",
    "\n",
    "    # tokens = [token.lower() for token in sentence]\n",
    "    tokens = ['<s>'] + tokens + ['</s>']\n",
    "    # print(\"tokens: \\t\", tokens)\n",
    "\n",
    "    src_indexes = src_field.lookup_indices(tokens)\n",
    "    src_tensor = torch.LongTensor(src_indexes).unsqueeze(0).to(device)\n",
    "\n",
    "    with torch.no_grad():\n",
    "        encoder_conved, encoder_combined = model.encoder(src_tensor)\n",
    "\n",
    "    trg_indexes = trg_field.lookup_indices(['<s>'])\n",
    "\n",
    "    for i in range(max_len):\n",
    "        trg_tensor = torch.LongTensor(trg_indexes).unsqueeze(0).to(device)\n",
    "        with torch.no_grad():\n",
    "            output, attention = model.decoder(trg_tensor, encoder_conved, encoder_combined)\n",
    "\n",
    "        pred_token = output.argmax(2)[:, -1].item()\n",
    "        trg_indexes.append(pred_token)\n",
    "\n",
    "        if pred_token == trg_field.lookup_indices(['</s>'])[0]:\n",
    "            break\n",
    "\n",
    "    trg_tokens = trg_field.lookup_tokens(trg_indexes)\n",
    "    return trg_tokens[1:], attention\n",
    "\n",
    "\n",
    "def display_attention(sentence, translation, attention):\n",
    "    fig = plt.figure(figsize=(10, 10))\n",
    "    ax = fig.add_subplot(111)\n",
    "\n",
    "    attention = attention.squeeze(0).cpu().detach().numpy()\n",
    "\n",
    "    cax = ax.matshow(attention)\n",
    "\n",
    "    ax.tick_params(labelsize=15)\n",
    "    ax.set_xticklabels([''] + ['<s>'] + [t.lower() for t in sentence] + ['</s>'],\n",
    "                       rotation=45)\n",
    "    ax.set_yticklabels([''] + translation)\n",
    "\n",
    "    ax.xaxis.set_major_locator(ticker.MultipleLocator(1))\n",
    "    ax.yaxis.set_major_locator(ticker.MultipleLocator(1))\n",
    "\n",
    "    plt.show()\n",
    "    plt.close()"
   ],
   "metadata": {
    "collapsed": false
   }
  },
  {
   "cell_type": "code",
   "execution_count": 6,
   "outputs": [
    {
     "data": {
      "text/plain": "Seq2Seq(\n  (encoder): Encoder(\n    (tok_embedding): Embedding(26330, 32)\n    (pos_embedding): Embedding(1024, 32)\n    (emb2hid): Linear(in_features=32, out_features=32, bias=True)\n    (hid2emb): Linear(in_features=32, out_features=32, bias=True)\n    (convs): ModuleList(\n      (0): Conv1d(32, 64, kernel_size=(3,), stride=(1,), padding=(1,))\n      (1): Conv1d(32, 64, kernel_size=(3,), stride=(1,), padding=(1,))\n    )\n    (dropout): Dropout(p=0.25, inplace=False)\n  )\n  (decoder): Decoder(\n    (tok_embedding): Embedding(26330, 32)\n    (pos_embedding): Embedding(1024, 32)\n    (emb2hid): Linear(in_features=32, out_features=32, bias=True)\n    (hid2emb): Linear(in_features=32, out_features=32, bias=True)\n    (attn_hid2emb): Linear(in_features=32, out_features=32, bias=True)\n    (attn_emb2hid): Linear(in_features=32, out_features=32, bias=True)\n    (fc_out): Linear(in_features=32, out_features=26330, bias=True)\n    (convs): ModuleList(\n      (0): Conv1d(32, 64, kernel_size=(3,), stride=(1,))\n      (1): Conv1d(32, 64, kernel_size=(3,), stride=(1,))\n    )\n    (dropout): Dropout(p=0.25, inplace=False)\n  )\n)"
     },
     "execution_count": 6,
     "metadata": {},
     "output_type": "execute_result"
    }
   ],
   "source": [
    "convs2s = torch.load(\"./conv-s2s.pt\", map_location=torch.device('cpu'))\n",
    "convs2s"
   ],
   "metadata": {
    "collapsed": false
   }
  },
  {
   "cell_type": "code",
   "execution_count": 13,
   "outputs": [],
   "source": [
    "# engs = ['go .', \"i lost .\", 'he\\'s calm .', 'i\\'m home .']\n",
    "# fras = ['va !', 'j\\'ai perdu .', 'il est calme .', 'je suis chez moi .']\n",
    "# for eng, fra in zip(engs, fras):\n",
    "#     translation, attention_weight_seq = predict_seq2seq(\n",
    "#         convs2s, eng, src_vocab, tgt_vocab, 10, DEVICE)\n",
    "#     print(f'{eng} => {translation}')"
   ],
   "metadata": {
    "collapsed": false
   }
  },
  {
   "cell_type": "code",
   "execution_count": 7,
   "outputs": [
    {
     "ename": "AssertionError",
     "evalue": "Torch not compiled with CUDA enabled",
     "output_type": "error",
     "traceback": [
      "\u001B[1;31m---------------------------------------------------------------------------\u001B[0m",
      "\u001B[1;31mAssertionError\u001B[0m                            Traceback (most recent call last)",
      "\u001B[1;32m<ipython-input-7-c4569548ea72>\u001B[0m in \u001B[0;36m<module>\u001B[1;34m\u001B[0m\n\u001B[0;32m      1\u001B[0m \u001B[0msrc\u001B[0m \u001B[1;33m=\u001B[0m \u001B[1;33m[\u001B[0m\u001B[1;34m'a'\u001B[0m\u001B[1;33m,\u001B[0m \u001B[1;34m'group'\u001B[0m\u001B[1;33m,\u001B[0m \u001B[1;34m'of'\u001B[0m\u001B[1;33m,\u001B[0m \u001B[1;34m'people'\u001B[0m\u001B[1;33m,\u001B[0m \u001B[1;34m'having'\u001B[0m\u001B[1;33m,\u001B[0m \u001B[1;34m'a'\u001B[0m\u001B[1;33m,\u001B[0m \u001B[1;34m'barbecue'\u001B[0m\u001B[1;33m,\u001B[0m \u001B[1;34m'in'\u001B[0m\u001B[1;33m,\u001B[0m \u001B[1;34m'the'\u001B[0m\u001B[1;33m,\u001B[0m \u001B[1;34m'park'\u001B[0m\u001B[1;33m,\u001B[0m \u001B[1;34m'.'\u001B[0m\u001B[1;33m]\u001B[0m\u001B[1;33m\u001B[0m\u001B[1;33m\u001B[0m\u001B[0m\n\u001B[0;32m      2\u001B[0m \u001B[0mtgt\u001B[0m \u001B[1;33m=\u001B[0m \u001B[1;33m[\u001B[0m\u001B[1;33m]\u001B[0m\u001B[1;33m\u001B[0m\u001B[1;33m\u001B[0m\u001B[0m\n\u001B[1;32m----> 3\u001B[1;33m \u001B[0mtranslation\u001B[0m\u001B[1;33m,\u001B[0m \u001B[0mattention\u001B[0m \u001B[1;33m=\u001B[0m \u001B[0mtranslate_sentence\u001B[0m\u001B[1;33m(\u001B[0m\u001B[0msrc\u001B[0m\u001B[1;33m,\u001B[0m \u001B[0mvocab\u001B[0m\u001B[1;33m,\u001B[0m \u001B[0mvocab\u001B[0m\u001B[1;33m,\u001B[0m \u001B[0mconvs2s\u001B[0m\u001B[1;33m,\u001B[0m \u001B[0mDEVICE\u001B[0m\u001B[1;33m)\u001B[0m\u001B[1;33m\u001B[0m\u001B[1;33m\u001B[0m\u001B[0m\n\u001B[0m\u001B[0;32m      4\u001B[0m \u001B[0mprint\u001B[0m\u001B[1;33m(\u001B[0m\u001B[0mtranslation\u001B[0m\u001B[1;33m)\u001B[0m\u001B[1;33m\u001B[0m\u001B[1;33m\u001B[0m\u001B[0m\n",
      "\u001B[1;32m<ipython-input-5-df11421457b2>\u001B[0m in \u001B[0;36mtranslate_sentence\u001B[1;34m(sentence, src_field, trg_field, model, device, max_len)\u001B[0m\n\u001B[0;32m     17\u001B[0m \u001B[1;33m\u001B[0m\u001B[0m\n\u001B[0;32m     18\u001B[0m     \u001B[1;32mwith\u001B[0m \u001B[0mtorch\u001B[0m\u001B[1;33m.\u001B[0m\u001B[0mno_grad\u001B[0m\u001B[1;33m(\u001B[0m\u001B[1;33m)\u001B[0m\u001B[1;33m:\u001B[0m\u001B[1;33m\u001B[0m\u001B[1;33m\u001B[0m\u001B[0m\n\u001B[1;32m---> 19\u001B[1;33m         \u001B[0mencoder_conved\u001B[0m\u001B[1;33m,\u001B[0m \u001B[0mencoder_combined\u001B[0m \u001B[1;33m=\u001B[0m \u001B[0mmodel\u001B[0m\u001B[1;33m.\u001B[0m\u001B[0mencoder\u001B[0m\u001B[1;33m(\u001B[0m\u001B[0msrc_tensor\u001B[0m\u001B[1;33m)\u001B[0m\u001B[1;33m\u001B[0m\u001B[1;33m\u001B[0m\u001B[0m\n\u001B[0m\u001B[0;32m     20\u001B[0m \u001B[1;33m\u001B[0m\u001B[0m\n\u001B[0;32m     21\u001B[0m     \u001B[0mtrg_indexes\u001B[0m \u001B[1;33m=\u001B[0m \u001B[0mtrg_field\u001B[0m\u001B[1;33m.\u001B[0m\u001B[0mlookup_indices\u001B[0m\u001B[1;33m(\u001B[0m\u001B[1;33m[\u001B[0m\u001B[1;34m'<s>'\u001B[0m\u001B[1;33m]\u001B[0m\u001B[1;33m)\u001B[0m\u001B[1;33m\u001B[0m\u001B[1;33m\u001B[0m\u001B[0m\n",
      "\u001B[1;32mD:\\Software\\Anaconda\\envs\\torch1.9\\lib\\site-packages\\torch\\nn\\modules\\module.py\u001B[0m in \u001B[0;36m_call_impl\u001B[1;34m(self, *input, **kwargs)\u001B[0m\n\u001B[0;32m   1049\u001B[0m         if not (self._backward_hooks or self._forward_hooks or self._forward_pre_hooks or _global_backward_hooks\n\u001B[0;32m   1050\u001B[0m                 or _global_forward_hooks or _global_forward_pre_hooks):\n\u001B[1;32m-> 1051\u001B[1;33m             \u001B[1;32mreturn\u001B[0m \u001B[0mforward_call\u001B[0m\u001B[1;33m(\u001B[0m\u001B[1;33m*\u001B[0m\u001B[0minput\u001B[0m\u001B[1;33m,\u001B[0m \u001B[1;33m**\u001B[0m\u001B[0mkwargs\u001B[0m\u001B[1;33m)\u001B[0m\u001B[1;33m\u001B[0m\u001B[1;33m\u001B[0m\u001B[0m\n\u001B[0m\u001B[0;32m   1052\u001B[0m         \u001B[1;31m# Do not call functions when jit is used\u001B[0m\u001B[1;33m\u001B[0m\u001B[1;33m\u001B[0m\u001B[1;33m\u001B[0m\u001B[0m\n\u001B[0;32m   1053\u001B[0m         \u001B[0mfull_backward_hooks\u001B[0m\u001B[1;33m,\u001B[0m \u001B[0mnon_full_backward_hooks\u001B[0m \u001B[1;33m=\u001B[0m \u001B[1;33m[\u001B[0m\u001B[1;33m]\u001B[0m\u001B[1;33m,\u001B[0m \u001B[1;33m[\u001B[0m\u001B[1;33m]\u001B[0m\u001B[1;33m\u001B[0m\u001B[1;33m\u001B[0m\u001B[0m\n",
      "\u001B[1;32mD:\\ProjectCodes\\AI_Projects\\RGQALE\\ConvS2S\\model.py\u001B[0m in \u001B[0;36mforward\u001B[1;34m(self, src)\u001B[0m\n\u001B[0;32m     43\u001B[0m \u001B[1;33m\u001B[0m\u001B[0m\n\u001B[0;32m     44\u001B[0m         \u001B[1;31m#create position tensor\u001B[0m\u001B[1;33m\u001B[0m\u001B[1;33m\u001B[0m\u001B[1;33m\u001B[0m\u001B[0m\n\u001B[1;32m---> 45\u001B[1;33m         \u001B[0mpos\u001B[0m \u001B[1;33m=\u001B[0m \u001B[0mtorch\u001B[0m\u001B[1;33m.\u001B[0m\u001B[0marange\u001B[0m\u001B[1;33m(\u001B[0m\u001B[1;36m0\u001B[0m\u001B[1;33m,\u001B[0m \u001B[0msrc_len\u001B[0m\u001B[1;33m)\u001B[0m\u001B[1;33m.\u001B[0m\u001B[0mrepeat\u001B[0m\u001B[1;33m(\u001B[0m\u001B[0mbatch_size\u001B[0m\u001B[1;33m,\u001B[0m \u001B[1;36m1\u001B[0m\u001B[1;33m)\u001B[0m\u001B[1;33m.\u001B[0m\u001B[0mto\u001B[0m\u001B[1;33m(\u001B[0m\u001B[0mself\u001B[0m\u001B[1;33m.\u001B[0m\u001B[0mdevice\u001B[0m\u001B[1;33m)\u001B[0m \u001B[1;31m#src_len\u001B[0m\u001B[1;33m\u001B[0m\u001B[1;33m\u001B[0m\u001B[0m\n\u001B[0m\u001B[0;32m     46\u001B[0m \u001B[1;33m\u001B[0m\u001B[0m\n\u001B[0;32m     47\u001B[0m         \u001B[1;31m#embed tokens and positions\u001B[0m\u001B[1;33m\u001B[0m\u001B[1;33m\u001B[0m\u001B[1;33m\u001B[0m\u001B[0m\n",
      "\u001B[1;32mD:\\Software\\Anaconda\\envs\\torch1.9\\lib\\site-packages\\torch\\cuda\\__init__.py\u001B[0m in \u001B[0;36m_lazy_init\u001B[1;34m()\u001B[0m\n\u001B[0;32m    164\u001B[0m                 \"multiprocessing, you must use the 'spawn' start method\")\n\u001B[0;32m    165\u001B[0m         \u001B[1;32mif\u001B[0m \u001B[1;32mnot\u001B[0m \u001B[0mhasattr\u001B[0m\u001B[1;33m(\u001B[0m\u001B[0mtorch\u001B[0m\u001B[1;33m.\u001B[0m\u001B[0m_C\u001B[0m\u001B[1;33m,\u001B[0m \u001B[1;34m'_cuda_getDeviceCount'\u001B[0m\u001B[1;33m)\u001B[0m\u001B[1;33m:\u001B[0m\u001B[1;33m\u001B[0m\u001B[1;33m\u001B[0m\u001B[0m\n\u001B[1;32m--> 166\u001B[1;33m             \u001B[1;32mraise\u001B[0m \u001B[0mAssertionError\u001B[0m\u001B[1;33m(\u001B[0m\u001B[1;34m\"Torch not compiled with CUDA enabled\"\u001B[0m\u001B[1;33m)\u001B[0m\u001B[1;33m\u001B[0m\u001B[1;33m\u001B[0m\u001B[0m\n\u001B[0m\u001B[0;32m    167\u001B[0m         \u001B[1;32mif\u001B[0m \u001B[0m_cudart\u001B[0m \u001B[1;32mis\u001B[0m \u001B[1;32mNone\u001B[0m\u001B[1;33m:\u001B[0m\u001B[1;33m\u001B[0m\u001B[1;33m\u001B[0m\u001B[0m\n\u001B[0;32m    168\u001B[0m             raise AssertionError(\n",
      "\u001B[1;31mAssertionError\u001B[0m: Torch not compiled with CUDA enabled"
     ]
    }
   ],
   "source": [
    "src = ['a', 'group', 'of', 'people', 'having', 'a', 'barbecue', 'in', 'the', 'park', '.']\n",
    "tgt = []\n",
    "translation, attention = translate_sentence(src, vocab, vocab, convs2s, DEVICE)\n",
    "print(translation)"
   ],
   "metadata": {
    "collapsed": false
   }
  },
  {
   "cell_type": "code",
   "execution_count": 17,
   "outputs": [
    {
     "name": "stderr",
     "output_type": "stream",
     "text": [
      "D:\\Software\\Anaconda\\envs\\torch1.9\\lib\\site-packages\\ipykernel_launcher.py:41: UserWarning: FixedFormatter should only be used together with FixedLocator\n",
      "D:\\Software\\Anaconda\\envs\\torch1.9\\lib\\site-packages\\ipykernel_launcher.py:42: UserWarning: FixedFormatter should only be used together with FixedLocator\n"
     ]
    },
    {
     "data": {
      "text/plain": "<Figure size 720x720 with 1 Axes>",
      "image/png": "[encoded data removed]"
     },
     "metadata": {
      "needs_background": "light"
     },
     "output_type": "display_data"
    }
   ],
   "source": [
    "display_attention(src, translation, attention)"
   ],
   "metadata": {
    "collapsed": false
   }
  },
  {
   "cell_type": "code",
   "execution_count": 15,
   "outputs": [],
   "source": [],
   "metadata": {
    "collapsed": false
   }
  },
  {
   "cell_type": "code",
   "execution_count": 15,
   "outputs": [],
   "source": [],
   "metadata": {
    "collapsed": false
   }
  }
 ],
 "metadata": {
  "kernelspec": {
   "name": "torch1.9",
   "language": "python",
   "display_name": "torch1.9"
  },
  "language_info": {
   "codemirror_mode": {
    "name": "ipython",
    "version": 2
   },
   "file_extension": ".py",
   "mimetype": "text/x-python",
   "name": "python",
   "nbconvert_exporter": "python",
   "pygments_lexer": "ipython2",
   "version": "2.7.6"
  }
 },
 "nbformat": 4,
 "nbformat_minor": 0
}
